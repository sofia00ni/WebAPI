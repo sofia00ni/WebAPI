{
 "cells": [
  {
   "cell_type": "code",
   "execution_count": 14,
   "id": "3c59f16e",
   "metadata": {},
   "outputs": [],
   "source": [
    "import requests\n",
    "from pprint import pprint"
   ]
  },
  {
   "cell_type": "code",
   "execution_count": 2,
   "id": "cded70c5",
   "metadata": {},
   "outputs": [
    {
     "name": "stdout",
     "output_type": "stream",
     "text": [
      "200\n"
     ]
    }
   ],
   "source": [
    "import requests  # <-- Das ist wichtig!\n",
    "\n",
    "response = requests.get(\"https://api.randomuser.me/\")\n",
    "print(response.status_code)"
   ]
  },
  {
   "cell_type": "code",
   "execution_count": 3,
   "id": "54a1139c",
   "metadata": {},
   "outputs": [
    {
     "name": "stdout",
     "output_type": "stream",
     "text": [
      "Statuscode: 200\n"
     ]
    }
   ],
   "source": [
    "\n",
    "# Parameter-Dictionary\n",
    "parameters = {\n",
    "    \"gender\": \"male\",\n",
    "    \"nat\": \"US\",\n",
    "    \"results\": 10\n",
    "}\n",
    "\n",
    "# API-Request mit params=\n",
    "response = requests.get(\"https://randomuser.me/api/\", params=parameters)\n",
    "\n",
    "# Statuscode prüfen\n",
    "print(\"Statuscode:\", response.status_code)"
   ]
  },
  {
   "cell_type": "code",
   "execution_count": 4,
   "id": "762962c8",
   "metadata": {},
   "outputs": [
    {
     "name": "stdout",
     "output_type": "stream",
     "text": [
      "{\"results\":[{\"gender\":\"male\",\"name\":{\"title\":\"Mr\",\"first\":\"Marcus\",\"last\":\"Johnson\"},\"location\":{\"street\":{\"number\":1877,\"name\":\"Hillcrest Rd\"},\"city\":\"Scurry\",\"state\":\"Washington\",\"country\":\"United States\",\"postcode\":44937,\"coordinates\":{\"latitude\":\"65.0262\",\"longitude\":\"57.4921\"},\"timezone\":{\"offset\":\"-2:00\",\"description\":\"Mid-Atlantic\"}},\"email\":\"marcus.johnson@example.com\",\"login\":{\"uuid\":\"7635de6e-b585-490b-83e8-5c9c4905486b\",\"username\":\"brownwolf604\",\"password\":\"justus\",\"salt\":\"6TuHtKcS\",\"md5\":\"11b40269590b4eaa8be88ac74a9a392c\",\"sha1\":\"0706876ad97a17b425cd6baaf001960a397658e2\",\"sha256\":\"e3d9a15a627be94f66b0ac3a2aec55896edaf10d13c0c1280e854da4cb97a2d8\"},\"dob\":{\"date\":\"1965-04-04T09:00:39.580Z\",\"age\":60},\"registered\":{\"date\":\"2018-05-31T03:14:44.202Z\",\"age\":7},\"phone\":\"(825) 232-5473\",\"cell\":\"(755) 455-7767\",\"id\":{\"name\":\"SSN\",\"value\":\"291-67-8651\"},\"picture\":{\"large\":\"https://randomuser.me/api/portraits/men/60.jpg\",\"medium\":\"https://randomuser.me/api/portraits/med/men/60.jpg\",\"thumbnail\":\"https://randomuser.me/api/portraits/thumb/men/60.jpg\"},\"nat\":\"US\"},{\"gender\":\"male\",\"name\":{\"title\":\"Mr\",\"first\":\"Brett\",\"last\":\"Jensen\"},\"location\":{\"street\":{\"number\":6873,\"name\":\"Elgin St\"},\"city\":\"Santa Clara\",\"state\":\"Georgia\",\"country\":\"United States\",\"postcode\":92348,\"coordinates\":{\"latitude\":\"-18.6873\",\"longitude\":\"53.7474\"},\"timezone\":{\"offset\":\"-12:00\",\"description\":\"Eniwetok, Kwajalein\"}},\"email\":\"brett.jensen@example.com\",\"login\":{\"uuid\":\"99598cba-cefc-4ba8-8173-e2abda924170\",\"username\":\"silverpeacock565\",\"password\":\"wizards\",\"salt\":\"eNUBGP9w\",\"md5\":\"0f297890f4ae98eb25e5bc9c077a9483\",\"sha1\":\"6ab09a528dbb7f8819a5ecb93d8a590ac0c82c46\",\"sha256\":\"164864745cad4467b789059f65ea7787da20561c46ba8f12bea9ebe27fd2b9a8\"},\"dob\":{\"date\":\"1993-01-18T18:26:03.852Z\",\"age\":32},\"registered\":{\"date\":\"2006-03-02T11:01:05.663Z\",\"age\":19},\"phone\":\"(613) 386-9368\",\"cell\":\"(744) 267-8746\",\"id\":{\"name\":\"SSN\",\"value\":\"050-60-8217\"},\"picture\":{\"large\":\"https://randomuser.me/api/portraits/men/17.jpg\",\"medium\":\"https://randomuser.me/api/portraits/med/men/17.jpg\",\"thumbnail\":\"https://randomuser.me/api/portraits/thumb/men/17.jpg\"},\"nat\":\"US\"},{\"gender\":\"male\",\"name\":{\"title\":\"Mr\",\"first\":\"Eugene\",\"last\":\"Welch\"},\"location\":{\"street\":{\"number\":4711,\"name\":\"Taylor St\"},\"city\":\"San Diego\",\"state\":\"Wyoming\",\"country\":\"United States\",\"postcode\":25058,\"coordinates\":{\"latitude\":\"33.7117\",\"longitude\":\"-89.4080\"},\"timezone\":{\"offset\":\"+10:00\",\"description\":\"Eastern Australia, Guam, Vladivostok\"}},\"email\":\"eugene.welch@example.com\",\"login\":{\"uuid\":\"c3e1ab68-af5f-4cb8-9328-252caf69da76\",\"username\":\"angrygoose534\",\"password\":\"pudding\",\"salt\":\"U2JLNRJy\",\"md5\":\"6da972230f83eecc3547466b33c090df\",\"sha1\":\"f83e53142e0bf1f462e158bc6a18fe8d3fd4e50f\",\"sha256\":\"5b7514b5737362f97c65e66d5670e9404dc42ab3462137cbf82f34df6b3f8b39\"},\"dob\":{\"date\":\"1972-03-03T12:49:14.901Z\",\"age\":53},\"registered\":{\"date\":\"2008-06-23T22:16:25.452Z\",\"age\":16},\"phone\":\"(509) 493-0575\",\"cell\":\"(760) 312-3428\",\"id\":{\"name\":\"SSN\",\"value\":\"390-30-0603\"},\"picture\":{\"large\":\"https://randomuser.me/api/portraits/men/1.jpg\",\"medium\":\"https://randomuser.me/api/portraits/med/men/1.jpg\",\"thumbnail\":\"https://randomuser.me/api/portraits/thumb/men/1.jpg\"},\"nat\":\"US\"},{\"gender\":\"male\",\"name\":{\"title\":\"Mr\",\"first\":\"Clarence\",\"last\":\"Rose\"},\"location\":{\"street\":{\"number\":9361,\"name\":\"Brown Terrace\"},\"city\":\"Washington\",\"state\":\"South Dakota\",\"country\":\"United States\",\"postcode\":71737,\"coordinates\":{\"latitude\":\"-68.8051\",\"longitude\":\"53.5526\"},\"timezone\":{\"offset\":\"-3:30\",\"description\":\"Newfoundland\"}},\"email\":\"clarence.rose@example.com\",\"login\":{\"uuid\":\"cec6a091-a0d3-42c1-9ff7-dcf2cd99ab96\",\"username\":\"bluezebra237\",\"password\":\"kermit\",\"salt\":\"x4H3IHMH\",\"md5\":\"3d2f8a290f4198fbfc8c9bf02cc9c853\",\"sha1\":\"2335c8dcfd41211b20d9ca7071a4a2501d14e63e\",\"sha256\":\"3b94de7c6f6b5496a5519ed6b6075f5ab4981a73c5c5b1449677d756820da150\"},\"dob\":{\"date\":\"1953-04-03T19:27:43.884Z\",\"age\":72},\"registered\":{\"date\":\"2021-11-27T16:24:02.785Z\",\"age\":3},\"phone\":\"(400) 379-6077\",\"cell\":\"(644) 733-7736\",\"id\":{\"name\":\"SSN\",\"value\":\"318-86-1213\"},\"picture\":{\"large\":\"https://randomuser.me/api/portraits/men/19.jpg\",\"medium\":\"https://randomuser.me/api/portraits/med/men/19.jpg\",\"thumbnail\":\"https://randomuser.me/api/portraits/thumb/men/19.jpg\"},\"nat\":\"US\"},{\"gender\":\"male\",\"name\":{\"title\":\"Mr\",\"first\":\"Chester\",\"last\":\"Wheeler\"},\"location\":{\"street\":{\"number\":5206,\"name\":\"Camden Ave\"},\"city\":\"Fountain Valley\",\"state\":\"Hawaii\",\"country\":\"United States\",\"postcode\":30495,\"coordinates\":{\"latitude\":\"39.4485\",\"longitude\":\"-174.1318\"},\"timezone\":{\"offset\":\"+1:00\",\"description\":\"Brussels, Copenhagen, Madrid, Paris\"}},\"email\":\"chester.wheeler@example.com\",\"login\":{\"uuid\":\"5774071e-4e50-48c9-bb02-23563ef99a2b\",\"username\":\"orangeladybug705\",\"password\":\"pingpong\",\"salt\":\"GdWk3hks\",\"md5\":\"9552c174e631173f79fccccdb6fc30cf\",\"sha1\":\"1864318eb9c813f35efec7299eaece6750176562\",\"sha256\":\"a561a9f7affc664ad0d0a447dc024d0ddb0ad766b1dd4530108da46f61d29df0\"},\"dob\":{\"date\":\"1948-10-17T13:35:37.445Z\",\"age\":76},\"registered\":{\"date\":\"2021-08-31T12:00:09.312Z\",\"age\":3},\"phone\":\"(938) 328-6260\",\"cell\":\"(970) 253-4475\",\"id\":{\"name\":\"SSN\",\"value\":\"870-39-6027\"},\"picture\":{\"large\":\"https://randomuser.me/api/portraits/men/67.jpg\",\"medium\":\"https://randomuser.me/api/portraits/med/men/67.jpg\",\"thumbnail\":\"https://randomuser.me/api/portraits/thumb/men/67.jpg\"},\"nat\":\"US\"},{\"gender\":\"male\",\"name\":{\"title\":\"Mr\",\"first\":\"Landon\",\"last\":\"Kelly\"},\"location\":{\"street\":{\"number\":5254,\"name\":\"W Belt Line Rd\"},\"city\":\"Yakima\",\"state\":\"Alabama\",\"country\":\"United States\",\"postcode\":93690,\"coordinates\":{\"latitude\":\"79.7539\",\"longitude\":\"-168.7943\"},\"timezone\":{\"offset\":\"+11:00\",\"description\":\"Magadan, Solomon Islands, New Caledonia\"}},\"email\":\"landon.kelly@example.com\",\"login\":{\"uuid\":\"64f0600a-0622-4c5e-8fca-5e8d889882f2\",\"username\":\"redkoala190\",\"password\":\"edthom\",\"salt\":\"rOFeDhCN\",\"md5\":\"9bc5f20c5850e695119ce5a1ed7066e2\",\"sha1\":\"13dc3b3cc2d5bb15d8858a002c6676a21bb910d9\",\"sha256\":\"3e19db806b46648fba80f4f545e5bea1ad826426bdab54e8c3cfec05fb397737\"},\"dob\":{\"date\":\"1951-06-21T15:42:36.471Z\",\"age\":73},\"registered\":{\"date\":\"2013-11-01T05:55:38.746Z\",\"age\":11},\"phone\":\"(500) 679-0156\",\"cell\":\"(478) 737-1775\",\"id\":{\"name\":\"SSN\",\"value\":\"268-04-0005\"},\"picture\":{\"large\":\"https://randomuser.me/api/portraits/men/56.jpg\",\"medium\":\"https://randomuser.me/api/portraits/med/men/56.jpg\",\"thumbnail\":\"https://randomuser.me/api/portraits/thumb/men/56.jpg\"},\"nat\":\"US\"},{\"gender\":\"male\",\"name\":{\"title\":\"Mr\",\"first\":\"Terrance\",\"last\":\"Payne\"},\"location\":{\"street\":{\"number\":5634,\"name\":\"Avondale Ave\"},\"city\":\"Olathe\",\"state\":\"Illinois\",\"country\":\"United States\",\"postcode\":63291,\"coordinates\":{\"latitude\":\"-62.7088\",\"longitude\":\"171.3407\"},\"timezone\":{\"offset\":\"+3:30\",\"description\":\"Tehran\"}},\"email\":\"terrance.payne@example.com\",\"login\":{\"uuid\":\"35003cfa-1cc9-476a-96cb-5b41dd93326a\",\"username\":\"redzebra518\",\"password\":\"history\",\"salt\":\"vIcxGify\",\"md5\":\"6fd5ccf9740e222262368b5280434bbb\",\"sha1\":\"f7b5171f2755479b449524f7e7cd1a80f8029169\",\"sha256\":\"656934b78c5f40635cf3624020f1884ffebabb9fe6a9563fe84db6344e42015c\"},\"dob\":{\"date\":\"1954-12-05T22:41:19.784Z\",\"age\":70},\"registered\":{\"date\":\"2010-10-10T07:38:27.997Z\",\"age\":14},\"phone\":\"(333) 873-4993\",\"cell\":\"(398) 762-0705\",\"id\":{\"name\":\"SSN\",\"value\":\"394-96-5607\"},\"picture\":{\"large\":\"https://randomuser.me/api/portraits/men/10.jpg\",\"medium\":\"https://randomuser.me/api/portraits/med/men/10.jpg\",\"thumbnail\":\"https://randomuser.me/api/portraits/thumb/men/10.jpg\"},\"nat\":\"US\"},{\"gender\":\"male\",\"name\":{\"title\":\"Mr\",\"first\":\"Tom\",\"last\":\"Kim\"},\"location\":{\"street\":{\"number\":8587,\"name\":\"Rolling Green Rd\"},\"city\":\"Corpus Christi\",\"state\":\"Idaho\",\"country\":\"United States\",\"postcode\":67275,\"coordinates\":{\"latitude\":\"-60.7088\",\"longitude\":\"168.9601\"},\"timezone\":{\"offset\":\"+6:00\",\"description\":\"Almaty, Dhaka, Colombo\"}},\"email\":\"tom.kim@example.com\",\"login\":{\"uuid\":\"78153381-c2e2-424b-87a1-fae6d24da3a1\",\"username\":\"orangebear675\",\"password\":\"stephane\",\"salt\":\"7Qu7cN39\",\"md5\":\"207f9505acc297425063cc7acaccd889\",\"sha1\":\"a023de519478758abaaf92576674f16547e136e5\",\"sha256\":\"f671b6c1627530e53169e1dfb31cce32eefd4a64067c688762b7e7e685ac5eed\"},\"dob\":{\"date\":\"1984-10-22T13:50:47.498Z\",\"age\":40},\"registered\":{\"date\":\"2013-04-19T06:16:57.936Z\",\"age\":12},\"phone\":\"(753) 328-3974\",\"cell\":\"(435) 416-6502\",\"id\":{\"name\":\"SSN\",\"value\":\"578-64-7790\"},\"picture\":{\"large\":\"https://randomuser.me/api/portraits/men/91.jpg\",\"medium\":\"https://randomuser.me/api/portraits/med/men/91.jpg\",\"thumbnail\":\"https://randomuser.me/api/portraits/thumb/men/91.jpg\"},\"nat\":\"US\"},{\"gender\":\"male\",\"name\":{\"title\":\"Mr\",\"first\":\"Craig\",\"last\":\"Wells\"},\"location\":{\"street\":{\"number\":4801,\"name\":\"First Street\"},\"city\":\"Fontana\",\"state\":\"Indiana\",\"country\":\"United States\",\"postcode\":16130,\"coordinates\":{\"latitude\":\"85.0326\",\"longitude\":\"74.9865\"},\"timezone\":{\"offset\":\"-5:00\",\"description\":\"Eastern Time (US & Canada), Bogota, Lima\"}},\"email\":\"craig.wells@example.com\",\"login\":{\"uuid\":\"008676c9-ec16-4e91-8c29-7f8ef0e4a817\",\"username\":\"ticklishzebra817\",\"password\":\"warner\",\"salt\":\"2ugkhKe9\",\"md5\":\"e327ade1d1e07ad2c634f683104911d8\",\"sha1\":\"b562d0a3a303b4be1d2b6db5ac491a18a5e763b0\",\"sha256\":\"4d996c2cc2eaa62bd62a2b6a971f7c0e1640b00a3116f21a3d9b03b75aaee19a\"},\"dob\":{\"date\":\"1975-01-24T00:42:49.667Z\",\"age\":50},\"registered\":{\"date\":\"2017-07-04T08:01:37.506Z\",\"age\":7},\"phone\":\"(788) 207-1952\",\"cell\":\"(422) 270-4923\",\"id\":{\"name\":\"SSN\",\"value\":\"627-19-6127\"},\"picture\":{\"large\":\"https://randomuser.me/api/portraits/men/92.jpg\",\"medium\":\"https://randomuser.me/api/portraits/med/men/92.jpg\",\"thumbnail\":\"https://randomuser.me/api/portraits/thumb/men/92.jpg\"},\"nat\":\"US\"},{\"gender\":\"male\",\"name\":{\"title\":\"Mr\",\"first\":\"Norman\",\"last\":\"Griffin\"},\"location\":{\"street\":{\"number\":8688,\"name\":\"Washington Ave\"},\"city\":\"Little Rock\",\"state\":\"Nebraska\",\"country\":\"United States\",\"postcode\":93887,\"coordinates\":{\"latitude\":\"-68.3288\",\"longitude\":\"-12.0609\"},\"timezone\":{\"offset\":\"+11:00\",\"description\":\"Magadan, Solomon Islands, New Caledonia\"}},\"email\":\"norman.griffin@example.com\",\"login\":{\"uuid\":\"a5a61198-7009-4bf1-a895-bea5c1bc93ae\",\"username\":\"yellowduck799\",\"password\":\"2233\",\"salt\":\"EhuLdPfQ\",\"md5\":\"28f9e255ff5003351a61015bb10a814e\",\"sha1\":\"7a53287294bcf6a53c393c7b8fa894340911e971\",\"sha256\":\"40a2f822b59f7cbd243879c975b160b39ccd3f8dce607e9b643ad30dba0c9dc1\"},\"dob\":{\"date\":\"1964-07-29T06:17:44.589Z\",\"age\":60},\"registered\":{\"date\":\"2006-08-31T16:56:32.641Z\",\"age\":18},\"phone\":\"(418) 255-1402\",\"cell\":\"(365) 230-6844\",\"id\":{\"name\":\"SSN\",\"value\":\"640-91-1563\"},\"picture\":{\"large\":\"https://randomuser.me/api/portraits/men/74.jpg\",\"medium\":\"https://randomuser.me/api/portraits/med/men/74.jpg\",\"thumbnail\":\"https://randomuser.me/api/portraits/thumb/men/74.jpg\"},\"nat\":\"US\"}],\"info\":{\"seed\":\"d7366016597c234a\",\"results\":10,\"page\":1,\"version\":\"1.4\"}}\n"
     ]
    }
   ],
   "source": [
    "print(response.text)\n"
   ]
  },
  {
   "cell_type": "code",
   "execution_count": 5,
   "id": "1066ace9",
   "metadata": {},
   "outputs": [],
   "source": [
    "data = response.json()\n"
   ]
  },
  {
   "cell_type": "code",
   "execution_count": 6,
   "id": "4b0d6862",
   "metadata": {},
   "outputs": [
    {
     "name": "stdout",
     "output_type": "stream",
     "text": [
      "<class 'dict'>\n"
     ]
    }
   ],
   "source": [
    "print(type(data))"
   ]
  },
  {
   "cell_type": "code",
   "execution_count": 7,
   "id": "9b9497a5",
   "metadata": {},
   "outputs": [
    {
     "name": "stdout",
     "output_type": "stream",
     "text": [
      "Marcus\n",
      "Brett\n",
      "Eugene\n",
      "Clarence\n",
      "Chester\n",
      "Landon\n",
      "Terrance\n",
      "Tom\n",
      "Craig\n",
      "Norman\n"
     ]
    }
   ],
   "source": [
    "for person in data[\"results\"]:\n",
    "    print(person[\"name\"][\"first\"])"
   ]
  },
  {
   "cell_type": "code",
   "execution_count": 10,
   "id": "461a45cf",
   "metadata": {},
   "outputs": [
    {
     "name": "stdout",
     "output_type": "stream",
     "text": [
      "The names of the astronauts who are right now in space:\n",
      "Oleg Kononenko\n",
      "Nikolai Chub\n",
      "Tracy Caldwell Dyson\n",
      "Matthew Dominick\n",
      "Michael Barratt\n",
      "Jeanette Epps\n",
      "Alexander Grebenkin\n",
      "Butch Wilmore\n",
      "Sunita Williams\n",
      "Li Guangsu\n",
      "Li Cong\n",
      "Ye Guangfu\n"
     ]
    }
   ],
   "source": [
    "url = \"http://api.open-notify.org/astros.json\"\n",
    "\n",
    "response = requests.get(url)\n",
    "\n",
    "data = response.json()\n",
    "\n",
    "print(\"The names of the astronauts who are right now in space:\")\n",
    "for person in data[\"people\"]:\n",
    "    print(person[\"name\"])"
   ]
  },
  {
   "cell_type": "code",
   "execution_count": 12,
   "id": "2ca449b3",
   "metadata": {},
   "outputs": [
    {
     "name": "stdout",
     "output_type": "stream",
     "text": [
      "the number of people who are right now in the space: 12\n"
     ]
    }
   ],
   "source": [
    "print(\"the number of people who are right now in the space:\", data[\"number\"])"
   ]
  },
  {
   "cell_type": "code",
   "execution_count": 15,
   "id": "6415526f",
   "metadata": {},
   "outputs": [
    {
     "name": "stdout",
     "output_type": "stream",
     "text": [
      "\n",
      "Data mit pprint:\n",
      "{'message': 'success',\n",
      " 'number': 12,\n",
      " 'people': [{'craft': 'ISS', 'name': 'Oleg Kononenko'},\n",
      "            {'craft': 'ISS', 'name': 'Nikolai Chub'},\n",
      "            {'craft': 'ISS', 'name': 'Tracy Caldwell Dyson'},\n",
      "            {'craft': 'ISS', 'name': 'Matthew Dominick'},\n",
      "            {'craft': 'ISS', 'name': 'Michael Barratt'},\n",
      "            {'craft': 'ISS', 'name': 'Jeanette Epps'},\n",
      "            {'craft': 'ISS', 'name': 'Alexander Grebenkin'},\n",
      "            {'craft': 'ISS', 'name': 'Butch Wilmore'},\n",
      "            {'craft': 'ISS', 'name': 'Sunita Williams'},\n",
      "            {'craft': 'Tiangong', 'name': 'Li Guangsu'},\n",
      "            {'craft': 'Tiangong', 'name': 'Li Cong'},\n",
      "            {'craft': 'Tiangong', 'name': 'Ye Guangfu'}]}\n"
     ]
    }
   ],
   "source": [
    "print(\"\\nData mit pprint:\")\n",
    "pprint(data)"
   ]
  },
  {
   "cell_type": "code",
   "execution_count": null,
   "id": "89746cb4",
   "metadata": {},
   "outputs": [],
   "source": []
  }
 ],
 "metadata": {
  "kernelspec": {
   "display_name": ".venv",
   "language": "python",
   "name": "python3"
  },
  "language_info": {
   "codemirror_mode": {
    "name": "ipython",
    "version": 3
   },
   "file_extension": ".py",
   "mimetype": "text/x-python",
   "name": "python",
   "nbconvert_exporter": "python",
   "pygments_lexer": "ipython3",
   "version": "3.13.3"
  }
 },
 "nbformat": 4,
 "nbformat_minor": 5
}
